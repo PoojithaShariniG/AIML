{
  "nbformat": 4,
  "nbformat_minor": 0,
  "metadata": {
    "colab": {
      "provenance": [],
      "include_colab_link": true
    },
    "kernelspec": {
      "name": "python3",
      "display_name": "Python 3"
    },
    "language_info": {
      "name": "python"
    }
  },
  "cells": [
    {
      "cell_type": "markdown",
      "metadata": {
        "id": "view-in-github",
        "colab_type": "text"
      },
      "source": [
        "<a href=\"https://colab.research.google.com/github/PoojithaShariniG/AIML/blob/main/2303A54011_set5_.ipynb\" target=\"_parent\"><img src=\"https://colab.research.google.com/assets/colab-badge.svg\" alt=\"Open In Colab\"/></a>"
      ]
    },
    {
      "cell_type": "code",
      "execution_count": 3,
      "metadata": {
        "id": "zJmtA25nvar4"
      },
      "outputs": [],
      "source": [
        "import pandas as pd\n",
        "import numpy as np\n",
        "import matplotlib.pyplot as plt\n",
        "import seaborn as sns"
      ]
    },
    {
      "cell_type": "code",
      "source": [
        "df=pd.read_csv('/content/Recipe Reviews and User Feedback Dataset.csv')\n",
        "df.head()"
      ],
      "metadata": {
        "colab": {
          "base_uri": "https://localhost:8080/",
          "height": 417
        },
        "id": "aNh2kogmvoBR",
        "outputId": "2c2eab39-1f84-4e22-c284-53bf1755d6ca"
      },
      "execution_count": 4,
      "outputs": [
        {
          "output_type": "execute_result",
          "data": {
            "text/plain": [
              "   Unnamed: 0  recipe_number  recipe_code         recipe_name  \\\n",
              "0           0              1        14299  Creamy White Chili   \n",
              "1           1              1        14299  Creamy White Chili   \n",
              "2           2              1        14299  Creamy White Chili   \n",
              "3           3              1        14299  Creamy White Chili   \n",
              "4           4              1        14299  Creamy White Chili   \n",
              "\n",
              "                                        comment_id         user_id  \\\n",
              "0  sp_aUSaElGf_14299_c_2G3aneMRgRMZwXqIHmSdXSG1hEM  u_9iFLIhMa8QaG   \n",
              "1  sp_aUSaElGf_14299_c_2FsPC83HtzCsQAtOxlbL6RcaPbY  u_Lu6p25tmE77j   \n",
              "2  sp_aUSaElGf_14299_c_2FPrSGyTv7PQkZq37j92r9mYGkP  u_s0LwgpZ8Jsqq   \n",
              "3  sp_aUSaElGf_14299_c_2DzdSIgV9qNiuBaLoZ7JQaartoC  u_fqrybAdYjgjG   \n",
              "4  sp_aUSaElGf_14299_c_2DtZJuRQYeTFwXBoZRfRhBPEXjI  u_XXWKwVhKZD69   \n",
              "\n",
              "    user_name  user_reputation  created_at  reply_count  thumbs_up  \\\n",
              "0     Jeri326                1  1665619889            0          0   \n",
              "1     Mark467               50  1665277687            0          7   \n",
              "2  Barbara566               10  1664404557            0          3   \n",
              "3  jeansch123                1  1661787808            2          2   \n",
              "4    camper77               10  1664913823            1          7   \n",
              "\n",
              "   thumbs_down  stars  best_score  \\\n",
              "0            0      5         527   \n",
              "1            0      5         724   \n",
              "2            0      5         710   \n",
              "3            0      0         581   \n",
              "4            0      0         820   \n",
              "\n",
              "                                                text  \n",
              "0  I tweaked it a little, removed onions because ...  \n",
              "1  Bush used to have a white chili bean and it ma...  \n",
              "2  I have a very complicated white chicken chili ...  \n",
              "3  In your introduction, you mentioned cream chee...  \n",
              "4  Wonderful! I made this for a &#34;Chili/Stew&#...  "
            ],
            "text/html": [
              "\n",
              "  <div id=\"df-d285ce73-0868-40f9-a7e6-d8fc8a50d685\" class=\"colab-df-container\">\n",
              "    <div>\n",
              "<style scoped>\n",
              "    .dataframe tbody tr th:only-of-type {\n",
              "        vertical-align: middle;\n",
              "    }\n",
              "\n",
              "    .dataframe tbody tr th {\n",
              "        vertical-align: top;\n",
              "    }\n",
              "\n",
              "    .dataframe thead th {\n",
              "        text-align: right;\n",
              "    }\n",
              "</style>\n",
              "<table border=\"1\" class=\"dataframe\">\n",
              "  <thead>\n",
              "    <tr style=\"text-align: right;\">\n",
              "      <th></th>\n",
              "      <th>Unnamed: 0</th>\n",
              "      <th>recipe_number</th>\n",
              "      <th>recipe_code</th>\n",
              "      <th>recipe_name</th>\n",
              "      <th>comment_id</th>\n",
              "      <th>user_id</th>\n",
              "      <th>user_name</th>\n",
              "      <th>user_reputation</th>\n",
              "      <th>created_at</th>\n",
              "      <th>reply_count</th>\n",
              "      <th>thumbs_up</th>\n",
              "      <th>thumbs_down</th>\n",
              "      <th>stars</th>\n",
              "      <th>best_score</th>\n",
              "      <th>text</th>\n",
              "    </tr>\n",
              "  </thead>\n",
              "  <tbody>\n",
              "    <tr>\n",
              "      <th>0</th>\n",
              "      <td>0</td>\n",
              "      <td>1</td>\n",
              "      <td>14299</td>\n",
              "      <td>Creamy White Chili</td>\n",
              "      <td>sp_aUSaElGf_14299_c_2G3aneMRgRMZwXqIHmSdXSG1hEM</td>\n",
              "      <td>u_9iFLIhMa8QaG</td>\n",
              "      <td>Jeri326</td>\n",
              "      <td>1</td>\n",
              "      <td>1665619889</td>\n",
              "      <td>0</td>\n",
              "      <td>0</td>\n",
              "      <td>0</td>\n",
              "      <td>5</td>\n",
              "      <td>527</td>\n",
              "      <td>I tweaked it a little, removed onions because ...</td>\n",
              "    </tr>\n",
              "    <tr>\n",
              "      <th>1</th>\n",
              "      <td>1</td>\n",
              "      <td>1</td>\n",
              "      <td>14299</td>\n",
              "      <td>Creamy White Chili</td>\n",
              "      <td>sp_aUSaElGf_14299_c_2FsPC83HtzCsQAtOxlbL6RcaPbY</td>\n",
              "      <td>u_Lu6p25tmE77j</td>\n",
              "      <td>Mark467</td>\n",
              "      <td>50</td>\n",
              "      <td>1665277687</td>\n",
              "      <td>0</td>\n",
              "      <td>7</td>\n",
              "      <td>0</td>\n",
              "      <td>5</td>\n",
              "      <td>724</td>\n",
              "      <td>Bush used to have a white chili bean and it ma...</td>\n",
              "    </tr>\n",
              "    <tr>\n",
              "      <th>2</th>\n",
              "      <td>2</td>\n",
              "      <td>1</td>\n",
              "      <td>14299</td>\n",
              "      <td>Creamy White Chili</td>\n",
              "      <td>sp_aUSaElGf_14299_c_2FPrSGyTv7PQkZq37j92r9mYGkP</td>\n",
              "      <td>u_s0LwgpZ8Jsqq</td>\n",
              "      <td>Barbara566</td>\n",
              "      <td>10</td>\n",
              "      <td>1664404557</td>\n",
              "      <td>0</td>\n",
              "      <td>3</td>\n",
              "      <td>0</td>\n",
              "      <td>5</td>\n",
              "      <td>710</td>\n",
              "      <td>I have a very complicated white chicken chili ...</td>\n",
              "    </tr>\n",
              "    <tr>\n",
              "      <th>3</th>\n",
              "      <td>3</td>\n",
              "      <td>1</td>\n",
              "      <td>14299</td>\n",
              "      <td>Creamy White Chili</td>\n",
              "      <td>sp_aUSaElGf_14299_c_2DzdSIgV9qNiuBaLoZ7JQaartoC</td>\n",
              "      <td>u_fqrybAdYjgjG</td>\n",
              "      <td>jeansch123</td>\n",
              "      <td>1</td>\n",
              "      <td>1661787808</td>\n",
              "      <td>2</td>\n",
              "      <td>2</td>\n",
              "      <td>0</td>\n",
              "      <td>0</td>\n",
              "      <td>581</td>\n",
              "      <td>In your introduction, you mentioned cream chee...</td>\n",
              "    </tr>\n",
              "    <tr>\n",
              "      <th>4</th>\n",
              "      <td>4</td>\n",
              "      <td>1</td>\n",
              "      <td>14299</td>\n",
              "      <td>Creamy White Chili</td>\n",
              "      <td>sp_aUSaElGf_14299_c_2DtZJuRQYeTFwXBoZRfRhBPEXjI</td>\n",
              "      <td>u_XXWKwVhKZD69</td>\n",
              "      <td>camper77</td>\n",
              "      <td>10</td>\n",
              "      <td>1664913823</td>\n",
              "      <td>1</td>\n",
              "      <td>7</td>\n",
              "      <td>0</td>\n",
              "      <td>0</td>\n",
              "      <td>820</td>\n",
              "      <td>Wonderful! I made this for a &amp;#34;Chili/Stew&amp;#...</td>\n",
              "    </tr>\n",
              "  </tbody>\n",
              "</table>\n",
              "</div>\n",
              "    <div class=\"colab-df-buttons\">\n",
              "\n",
              "  <div class=\"colab-df-container\">\n",
              "    <button class=\"colab-df-convert\" onclick=\"convertToInteractive('df-d285ce73-0868-40f9-a7e6-d8fc8a50d685')\"\n",
              "            title=\"Convert this dataframe to an interactive table.\"\n",
              "            style=\"display:none;\">\n",
              "\n",
              "  <svg xmlns=\"http://www.w3.org/2000/svg\" height=\"24px\" viewBox=\"0 -960 960 960\">\n",
              "    <path d=\"M120-120v-720h720v720H120Zm60-500h600v-160H180v160Zm220 220h160v-160H400v160Zm0 220h160v-160H400v160ZM180-400h160v-160H180v160Zm440 0h160v-160H620v160ZM180-180h160v-160H180v160Zm440 0h160v-160H620v160Z\"/>\n",
              "  </svg>\n",
              "    </button>\n",
              "\n",
              "  <style>\n",
              "    .colab-df-container {\n",
              "      display:flex;\n",
              "      gap: 12px;\n",
              "    }\n",
              "\n",
              "    .colab-df-convert {\n",
              "      background-color: #E8F0FE;\n",
              "      border: none;\n",
              "      border-radius: 50%;\n",
              "      cursor: pointer;\n",
              "      display: none;\n",
              "      fill: #1967D2;\n",
              "      height: 32px;\n",
              "      padding: 0 0 0 0;\n",
              "      width: 32px;\n",
              "    }\n",
              "\n",
              "    .colab-df-convert:hover {\n",
              "      background-color: #E2EBFA;\n",
              "      box-shadow: 0px 1px 2px rgba(60, 64, 67, 0.3), 0px 1px 3px 1px rgba(60, 64, 67, 0.15);\n",
              "      fill: #174EA6;\n",
              "    }\n",
              "\n",
              "    .colab-df-buttons div {\n",
              "      margin-bottom: 4px;\n",
              "    }\n",
              "\n",
              "    [theme=dark] .colab-df-convert {\n",
              "      background-color: #3B4455;\n",
              "      fill: #D2E3FC;\n",
              "    }\n",
              "\n",
              "    [theme=dark] .colab-df-convert:hover {\n",
              "      background-color: #434B5C;\n",
              "      box-shadow: 0px 1px 3px 1px rgba(0, 0, 0, 0.15);\n",
              "      filter: drop-shadow(0px 1px 2px rgba(0, 0, 0, 0.3));\n",
              "      fill: #FFFFFF;\n",
              "    }\n",
              "  </style>\n",
              "\n",
              "    <script>\n",
              "      const buttonEl =\n",
              "        document.querySelector('#df-d285ce73-0868-40f9-a7e6-d8fc8a50d685 button.colab-df-convert');\n",
              "      buttonEl.style.display =\n",
              "        google.colab.kernel.accessAllowed ? 'block' : 'none';\n",
              "\n",
              "      async function convertToInteractive(key) {\n",
              "        const element = document.querySelector('#df-d285ce73-0868-40f9-a7e6-d8fc8a50d685');\n",
              "        const dataTable =\n",
              "          await google.colab.kernel.invokeFunction('convertToInteractive',\n",
              "                                                    [key], {});\n",
              "        if (!dataTable) return;\n",
              "\n",
              "        const docLinkHtml = 'Like what you see? Visit the ' +\n",
              "          '<a target=\"_blank\" href=https://colab.research.google.com/notebooks/data_table.ipynb>data table notebook</a>'\n",
              "          + ' to learn more about interactive tables.';\n",
              "        element.innerHTML = '';\n",
              "        dataTable['output_type'] = 'display_data';\n",
              "        await google.colab.output.renderOutput(dataTable, element);\n",
              "        const docLink = document.createElement('div');\n",
              "        docLink.innerHTML = docLinkHtml;\n",
              "        element.appendChild(docLink);\n",
              "      }\n",
              "    </script>\n",
              "  </div>\n",
              "\n",
              "\n",
              "<div id=\"df-4cd00549-3ef4-4cb4-9594-9d588ffda6be\">\n",
              "  <button class=\"colab-df-quickchart\" onclick=\"quickchart('df-4cd00549-3ef4-4cb4-9594-9d588ffda6be')\"\n",
              "            title=\"Suggest charts\"\n",
              "            style=\"display:none;\">\n",
              "\n",
              "<svg xmlns=\"http://www.w3.org/2000/svg\" height=\"24px\"viewBox=\"0 0 24 24\"\n",
              "     width=\"24px\">\n",
              "    <g>\n",
              "        <path d=\"M19 3H5c-1.1 0-2 .9-2 2v14c0 1.1.9 2 2 2h14c1.1 0 2-.9 2-2V5c0-1.1-.9-2-2-2zM9 17H7v-7h2v7zm4 0h-2V7h2v10zm4 0h-2v-4h2v4z\"/>\n",
              "    </g>\n",
              "</svg>\n",
              "  </button>\n",
              "\n",
              "<style>\n",
              "  .colab-df-quickchart {\n",
              "      --bg-color: #E8F0FE;\n",
              "      --fill-color: #1967D2;\n",
              "      --hover-bg-color: #E2EBFA;\n",
              "      --hover-fill-color: #174EA6;\n",
              "      --disabled-fill-color: #AAA;\n",
              "      --disabled-bg-color: #DDD;\n",
              "  }\n",
              "\n",
              "  [theme=dark] .colab-df-quickchart {\n",
              "      --bg-color: #3B4455;\n",
              "      --fill-color: #D2E3FC;\n",
              "      --hover-bg-color: #434B5C;\n",
              "      --hover-fill-color: #FFFFFF;\n",
              "      --disabled-bg-color: #3B4455;\n",
              "      --disabled-fill-color: #666;\n",
              "  }\n",
              "\n",
              "  .colab-df-quickchart {\n",
              "    background-color: var(--bg-color);\n",
              "    border: none;\n",
              "    border-radius: 50%;\n",
              "    cursor: pointer;\n",
              "    display: none;\n",
              "    fill: var(--fill-color);\n",
              "    height: 32px;\n",
              "    padding: 0;\n",
              "    width: 32px;\n",
              "  }\n",
              "\n",
              "  .colab-df-quickchart:hover {\n",
              "    background-color: var(--hover-bg-color);\n",
              "    box-shadow: 0 1px 2px rgba(60, 64, 67, 0.3), 0 1px 3px 1px rgba(60, 64, 67, 0.15);\n",
              "    fill: var(--button-hover-fill-color);\n",
              "  }\n",
              "\n",
              "  .colab-df-quickchart-complete:disabled,\n",
              "  .colab-df-quickchart-complete:disabled:hover {\n",
              "    background-color: var(--disabled-bg-color);\n",
              "    fill: var(--disabled-fill-color);\n",
              "    box-shadow: none;\n",
              "  }\n",
              "\n",
              "  .colab-df-spinner {\n",
              "    border: 2px solid var(--fill-color);\n",
              "    border-color: transparent;\n",
              "    border-bottom-color: var(--fill-color);\n",
              "    animation:\n",
              "      spin 1s steps(1) infinite;\n",
              "  }\n",
              "\n",
              "  @keyframes spin {\n",
              "    0% {\n",
              "      border-color: transparent;\n",
              "      border-bottom-color: var(--fill-color);\n",
              "      border-left-color: var(--fill-color);\n",
              "    }\n",
              "    20% {\n",
              "      border-color: transparent;\n",
              "      border-left-color: var(--fill-color);\n",
              "      border-top-color: var(--fill-color);\n",
              "    }\n",
              "    30% {\n",
              "      border-color: transparent;\n",
              "      border-left-color: var(--fill-color);\n",
              "      border-top-color: var(--fill-color);\n",
              "      border-right-color: var(--fill-color);\n",
              "    }\n",
              "    40% {\n",
              "      border-color: transparent;\n",
              "      border-right-color: var(--fill-color);\n",
              "      border-top-color: var(--fill-color);\n",
              "    }\n",
              "    60% {\n",
              "      border-color: transparent;\n",
              "      border-right-color: var(--fill-color);\n",
              "    }\n",
              "    80% {\n",
              "      border-color: transparent;\n",
              "      border-right-color: var(--fill-color);\n",
              "      border-bottom-color: var(--fill-color);\n",
              "    }\n",
              "    90% {\n",
              "      border-color: transparent;\n",
              "      border-bottom-color: var(--fill-color);\n",
              "    }\n",
              "  }\n",
              "</style>\n",
              "\n",
              "  <script>\n",
              "    async function quickchart(key) {\n",
              "      const quickchartButtonEl =\n",
              "        document.querySelector('#' + key + ' button');\n",
              "      quickchartButtonEl.disabled = true;  // To prevent multiple clicks.\n",
              "      quickchartButtonEl.classList.add('colab-df-spinner');\n",
              "      try {\n",
              "        const charts = await google.colab.kernel.invokeFunction(\n",
              "            'suggestCharts', [key], {});\n",
              "      } catch (error) {\n",
              "        console.error('Error during call to suggestCharts:', error);\n",
              "      }\n",
              "      quickchartButtonEl.classList.remove('colab-df-spinner');\n",
              "      quickchartButtonEl.classList.add('colab-df-quickchart-complete');\n",
              "    }\n",
              "    (() => {\n",
              "      let quickchartButtonEl =\n",
              "        document.querySelector('#df-4cd00549-3ef4-4cb4-9594-9d588ffda6be button');\n",
              "      quickchartButtonEl.style.display =\n",
              "        google.colab.kernel.accessAllowed ? 'block' : 'none';\n",
              "    })();\n",
              "  </script>\n",
              "</div>\n",
              "\n",
              "    </div>\n",
              "  </div>\n"
            ],
            "application/vnd.google.colaboratory.intrinsic+json": {
              "type": "dataframe",
              "variable_name": "df",
              "summary": "{\n  \"name\": \"df\",\n  \"rows\": 18182,\n  \"fields\": [\n    {\n      \"column\": \"Unnamed: 0\",\n      \"properties\": {\n        \"dtype\": \"number\",\n        \"std\": 116,\n        \"min\": 0,\n        \"max\": 724,\n        \"num_unique_values\": 725,\n        \"samples\": [\n          326,\n          518,\n          554\n        ],\n        \"semantic_type\": \"\",\n        \"description\": \"\"\n      }\n    },\n    {\n      \"column\": \"recipe_number\",\n      \"properties\": {\n        \"dtype\": \"number\",\n        \"std\": 29,\n        \"min\": 1,\n        \"max\": 100,\n        \"num_unique_values\": 100,\n        \"samples\": [\n          84,\n          54,\n          71\n        ],\n        \"semantic_type\": \"\",\n        \"description\": \"\"\n      }\n    },\n    {\n      \"column\": \"recipe_code\",\n      \"properties\": {\n        \"dtype\": \"number\",\n        \"std\": 23965,\n        \"min\": 386,\n        \"max\": 191775,\n        \"num_unique_values\": 100,\n        \"samples\": [\n          4444,\n          35766,\n          12259\n        ],\n        \"semantic_type\": \"\",\n        \"description\": \"\"\n      }\n    },\n    {\n      \"column\": \"recipe_name\",\n      \"properties\": {\n        \"dtype\": \"category\",\n        \"num_unique_values\": 100,\n        \"samples\": [\n          \"Strawberry Pretzel Salad\",\n          \"Cheeseburger Paradise Soup\",\n          \"Banana Bars with Cream Cheese Frosting\"\n        ],\n        \"semantic_type\": \"\",\n        \"description\": \"\"\n      }\n    },\n    {\n      \"column\": \"comment_id\",\n      \"properties\": {\n        \"dtype\": \"string\",\n        \"num_unique_values\": 18182,\n        \"samples\": [\n          \"sp_aUSaElGf_11767_c_161080\",\n          \"sp_aUSaElGf_3309_c_179663\",\n          \"sp_aUSaElGf_141947_c_25OEwT9cShUeeIc1NDtvXOdMmsl\"\n        ],\n        \"semantic_type\": \"\",\n        \"description\": \"\"\n      }\n    },\n    {\n      \"column\": \"user_id\",\n      \"properties\": {\n        \"dtype\": \"string\",\n        \"num_unique_values\": 13812,\n        \"samples\": [\n          \"u_1oKVew1waOlVdtENPclCMLUHIKH\",\n          \"u_4E92mOjCjoxp\",\n          \"u_1oKWRmNdxqOszrKcOBjalh6A5UA\"\n        ],\n        \"semantic_type\": \"\",\n        \"description\": \"\"\n      }\n    },\n    {\n      \"column\": \"user_name\",\n      \"properties\": {\n        \"dtype\": \"string\",\n        \"num_unique_values\": 13586,\n        \"samples\": [\n          \"JanieceMurphy\",\n          \"vbanfield\",\n          \"dmj328\"\n        ],\n        \"semantic_type\": \"\",\n        \"description\": \"\"\n      }\n    },\n    {\n      \"column\": \"user_reputation\",\n      \"properties\": {\n        \"dtype\": \"number\",\n        \"std\": 10,\n        \"min\": 0,\n        \"max\": 520,\n        \"num_unique_values\": 22,\n        \"samples\": [\n          1,\n          160,\n          130\n        ],\n        \"semantic_type\": \"\",\n        \"description\": \"\"\n      }\n    },\n    {\n      \"column\": \"created_at\",\n      \"properties\": {\n        \"dtype\": \"number\",\n        \"std\": 5468696,\n        \"min\": 1613035336,\n        \"max\": 1665756035,\n        \"num_unique_values\": 2695,\n        \"samples\": [\n          1622717016,\n          1622718090,\n          1622717812\n        ],\n        \"semantic_type\": \"\",\n        \"description\": \"\"\n      }\n    },\n    {\n      \"column\": \"reply_count\",\n      \"properties\": {\n        \"dtype\": \"number\",\n        \"std\": 0,\n        \"min\": 0,\n        \"max\": 3,\n        \"num_unique_values\": 4,\n        \"samples\": [\n          2,\n          3,\n          0\n        ],\n        \"semantic_type\": \"\",\n        \"description\": \"\"\n      }\n    },\n    {\n      \"column\": \"thumbs_up\",\n      \"properties\": {\n        \"dtype\": \"number\",\n        \"std\": 4,\n        \"min\": 0,\n        \"max\": 106,\n        \"num_unique_values\": 62,\n        \"samples\": [\n          45,\n          29,\n          0\n        ],\n        \"semantic_type\": \"\",\n        \"description\": \"\"\n      }\n    },\n    {\n      \"column\": \"thumbs_down\",\n      \"properties\": {\n        \"dtype\": \"number\",\n        \"std\": 3,\n        \"min\": 0,\n        \"max\": 126,\n        \"num_unique_values\": 58,\n        \"samples\": [\n          0,\n          6,\n          26\n        ],\n        \"semantic_type\": \"\",\n        \"description\": \"\"\n      }\n    },\n    {\n      \"column\": \"stars\",\n      \"properties\": {\n        \"dtype\": \"number\",\n        \"std\": 1,\n        \"min\": 0,\n        \"max\": 5,\n        \"num_unique_values\": 6,\n        \"samples\": [\n          5,\n          0,\n          2\n        ],\n        \"semantic_type\": \"\",\n        \"description\": \"\"\n      }\n    },\n    {\n      \"column\": \"best_score\",\n      \"properties\": {\n        \"dtype\": \"number\",\n        \"std\": 141,\n        \"min\": 0,\n        \"max\": 946,\n        \"num_unique_values\": 588,\n        \"samples\": [\n          472,\n          479,\n          852\n        ],\n        \"semantic_type\": \"\",\n        \"description\": \"\"\n      }\n    },\n    {\n      \"column\": \"text\",\n      \"properties\": {\n        \"dtype\": \"string\",\n        \"num_unique_values\": 17731,\n        \"samples\": [\n          \"This recipe is a 5 star ... sorry!!!\",\n          \"Very good. It&#39;s a little on the spicy side and the chicken turned out slightly dry, very good overall though.\",\n          \"The best coleslaw I ever made..... creamy and sweet!\"\n        ],\n        \"semantic_type\": \"\",\n        \"description\": \"\"\n      }\n    }\n  ]\n}"
            }
          },
          "metadata": {},
          "execution_count": 4
        }
      ]
    },
    {
      "cell_type": "code",
      "source": [
        "\n",
        "recipe_ratings = df.groupby('recipe_name')['thumbs_up'].mean().reset_index()"
      ],
      "metadata": {
        "id": "23MZcsG_wOVs"
      },
      "execution_count": null,
      "outputs": []
    },
    {
      "cell_type": "code",
      "source": [
        "\n",
        "most_appreciated_recipe = recipe_ratings.sort_values(by=['thumbs_up'], ascending=False).iloc[0]\n",
        "\n",
        "print(\"Most appreciated recipe:\", most_appreciated_recipe['recipe_name'])\n",
        "print(\"Average thumbs_up rating:\", most_appreciated_recipe['thumbs_up'])"
      ],
      "metadata": {
        "colab": {
          "base_uri": "https://localhost:8080/"
        },
        "id": "vsmq5_JrxHAh",
        "outputId": "e250c91d-db7c-480c-c1e5-15b7f8beca5d"
      },
      "execution_count": null,
      "outputs": [
        {
          "output_type": "stream",
          "name": "stdout",
          "text": [
            "Most appreciated recipe: Contest-Winning New England Clam Chowder\n",
            "Average thumbs_up rating: 4.147651006711409\n"
          ]
        }
      ]
    },
    {
      "cell_type": "code",
      "source": [
        "recipe_counts = df.groupby('recipe_name')['thumbs_up'].count().reset_index()\n",
        "recipe_counts = recipe_counts.rename(columns={'thumbs_up': 'preparation_count'})"
      ],
      "metadata": {
        "id": "U_8HASzAxd90"
      },
      "execution_count": null,
      "outputs": []
    },
    {
      "cell_type": "code",
      "source": [
        "top_5_recipes = recipe_counts.sort_values(by=['preparation_count'], ascending=False).head(5)\n",
        "\n",
        "print(top_5_recipes)"
      ],
      "metadata": {
        "colab": {
          "base_uri": "https://localhost:8080/"
        },
        "id": "K8mdAQpExxnN",
        "outputId": "c3de2d44-4612-4171-b576-a7d117029b06"
      },
      "execution_count": null,
      "outputs": [
        {
          "output_type": "stream",
          "name": "stdout",
          "text": [
            "               recipe_name  preparation_count\n",
            "22       Cheeseburger Soup                725\n",
            "39      Creamy White Chili                654\n",
            "10  Best Ever Banana Bread                509\n",
            "43   Enchilada Casser-Ole!                421\n",
            "9     Basic Homemade Bread                397\n"
          ]
        }
      ]
    },
    {
      "cell_type": "code",
      "source": [
        "recipe_ratings = df.groupby('recipe_name')['thumbs_up'].mean().reset_index()"
      ],
      "metadata": {
        "id": "nnlJ9KL6x6cL"
      },
      "execution_count": null,
      "outputs": []
    },
    {
      "cell_type": "code",
      "source": [
        "most_delightful_recipe = recipe_ratings.loc[recipe_ratings['thumbs_up'].idxmax()]"
      ],
      "metadata": {
        "id": "IYqlxNdUyEIZ"
      },
      "execution_count": null,
      "outputs": []
    },
    {
      "cell_type": "code",
      "source": [
        "print(\"Most delightful recipe:\", most_delightful_recipe['recipe_name'])\n",
        "print(\"Average thumbs_up rating:\", most_delightful_recipe['thumbs_up'])"
      ],
      "metadata": {
        "colab": {
          "base_uri": "https://localhost:8080/"
        },
        "id": "fiEDZzpEyHdd",
        "outputId": "efa447a3-2629-4380-c73c-f9cc3d243b8b"
      },
      "execution_count": null,
      "outputs": [
        {
          "output_type": "stream",
          "name": "stdout",
          "text": [
            "Most delightful recipe: Contest-Winning New England Clam Chowder\n",
            "Average thumbs_up rating: 4.147651006711409\n"
          ]
        }
      ]
    },
    {
      "cell_type": "code",
      "source": [
        "recipe_stats = df.groupby('recipe_name').agg(review_count=('thumbs_up', 'count'), avg_rating=('thumbs_up', 'mean'))\n",
        "\n",
        "recipe_stats['reputation_score'] = recipe_stats['review_count'] * recipe_stats['avg_rating']\n",
        "\n",
        "highest_reputation_recipe = recipe_stats.loc[recipe_stats['reputation_score'].idxmax()]"
      ],
      "metadata": {
        "id": "StV9JDqmyTDi"
      },
      "execution_count": null,
      "outputs": []
    },
    {
      "cell_type": "code",
      "source": [
        "print(\"Recipe with highest reputation:\", highest_reputation_recipe.name)\n",
        "print(\"Reputation score:\", highest_reputation_recipe['reputation_score'])"
      ],
      "metadata": {
        "colab": {
          "base_uri": "https://localhost:8080/"
        },
        "id": "whoJSPi8yVS-",
        "outputId": "19dd54d0-1014-4f05-aa1d-457752226836"
      },
      "execution_count": null,
      "outputs": [
        {
          "output_type": "stream",
          "name": "stdout",
          "text": [
            "Recipe with highest reputation: Amish Breakfast Casserole\n",
            "Reputation score: 971.0\n"
          ]
        }
      ]
    },
    {
      "cell_type": "code",
      "source": [
        "top_100_recipes = df.groupby('recipe_name')['thumbs_up'].count().nlargest(100).index.tolist()"
      ],
      "metadata": {
        "id": "wql3Q5gvyX9z"
      },
      "execution_count": null,
      "outputs": []
    },
    {
      "cell_type": "code",
      "source": [
        "filtered_df = df[df['recipe_name'].isin(top_100_recipes)]\n",
        "\n",
        "most_ordered_recipes = filtered_df.groupby('recipe_name')['thumbs_up'].count().reset_index()\n",
        "most_ordered_recipes = most_ordered_recipes.rename(columns={'thumbs_up': 'preparation_count'})\n",
        "\n",
        "most_ordered_recipes = most_ordered_recipes.sort_values(by=['preparation_count'], ascending=False)\n",
        "\n",
        "print(most_ordered_recipes)"
      ],
      "metadata": {
        "id": "rWh87-P-ylzG",
        "outputId": "a1768025-a72e-49ba-8f36-85c2af3ed291",
        "colab": {
          "base_uri": "https://localhost:8080/"
        }
      },
      "execution_count": null,
      "outputs": [
        {
          "output_type": "stream",
          "name": "stdout",
          "text": [
            "                 recipe_name  preparation_count\n",
            "22         Cheeseburger Soup                725\n",
            "39        Creamy White Chili                654\n",
            "10    Best Ever Banana Bread                509\n",
            "43     Enchilada Casser-Ole!                421\n",
            "9       Basic Homemade Bread                397\n",
            "..                       ...                ...\n",
            "41  Easy Peanut Butter Fudge                 96\n",
            "14    Blueberry French Toast                 90\n",
            "18        Caramel Heavenlies                 86\n",
            "60        Lime Chicken Tacos                 86\n",
            "95       Vegetarian Linguine                 31\n",
            "\n",
            "[100 rows x 2 columns]\n"
          ]
        }
      ]
    }
  ]
}